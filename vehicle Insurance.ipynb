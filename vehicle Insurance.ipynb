{
 "cells": [
  {
   "cell_type": "code",
   "execution_count": 191,
   "id": "56419e83",
   "metadata": {},
   "outputs": [],
   "source": [
    "import numpy as np\n",
    "import pandas as pd\n",
    "import matplotlib.pyplot as plt\n",
    "from sklearn.linear_model import LinearRegression\n",
    "from sklearn.neighbors import KNeighborsRegressor\n",
    "\n",
    "from sklearn.metrics import mean_squared_error, r2_score\n",
    "\n",
    "from sklearn.model_selection import train_test_split"
   ]
  },
  {
   "cell_type": "code",
   "execution_count": 192,
   "id": "fc759e5b",
   "metadata": {},
   "outputs": [
    {
     "ename": "FileNotFoundError",
     "evalue": "[Errno 2] No such file or directory: 'C:\\\\Users\\\\COMPUER\\\\Desktop\\\\DataScience\\\\vehicle insurance hackathon\\\\sample_submission.csv'",
     "output_type": "error",
     "traceback": [
      "\u001b[1;31m---------------------------------------------------------------------------\u001b[0m",
      "\u001b[1;31mFileNotFoundError\u001b[0m                         Traceback (most recent call last)",
      "\u001b[1;32m~\\AppData\\Local\\Temp/ipykernel_10644/3858772787.py\u001b[0m in \u001b[0;36m<module>\u001b[1;34m\u001b[0m\n\u001b[0;32m      1\u001b[0m \u001b[0mtrain\u001b[0m \u001b[1;33m=\u001b[0m \u001b[0mpd\u001b[0m\u001b[1;33m.\u001b[0m\u001b[0mread_csv\u001b[0m\u001b[1;33m(\u001b[0m\u001b[1;34mr'C:\\Users\\COMPUER\\Desktop\\DataScience\\vehicle insurance hackathon\\train.csv'\u001b[0m\u001b[1;33m)\u001b[0m\u001b[1;33m\u001b[0m\u001b[1;33m\u001b[0m\u001b[0m\n\u001b[0;32m      2\u001b[0m \u001b[0mtest\u001b[0m \u001b[1;33m=\u001b[0m \u001b[0mpd\u001b[0m\u001b[1;33m.\u001b[0m\u001b[0mread_csv\u001b[0m\u001b[1;33m(\u001b[0m\u001b[1;34mr'C:\\Users\\COMPUER\\Desktop\\DataScience\\vehicle insurance hackathon\\test.csv'\u001b[0m\u001b[1;33m)\u001b[0m\u001b[1;33m\u001b[0m\u001b[1;33m\u001b[0m\u001b[0m\n\u001b[1;32m----> 3\u001b[1;33m \u001b[0msample\u001b[0m\u001b[1;33m=\u001b[0m \u001b[0mpd\u001b[0m\u001b[1;33m.\u001b[0m\u001b[0mread_csv\u001b[0m\u001b[1;33m(\u001b[0m\u001b[1;34mr'C:\\Users\\COMPUER\\Desktop\\DataScience\\vehicle insurance hackathon\\sample_submission.csv'\u001b[0m\u001b[1;33m)\u001b[0m\u001b[1;33m\u001b[0m\u001b[1;33m\u001b[0m\u001b[0m\n\u001b[0m",
      "\u001b[1;32m~\\anaconda3\\lib\\site-packages\\pandas\\util\\_decorators.py\u001b[0m in \u001b[0;36mwrapper\u001b[1;34m(*args, **kwargs)\u001b[0m\n\u001b[0;32m    309\u001b[0m                     \u001b[0mstacklevel\u001b[0m\u001b[1;33m=\u001b[0m\u001b[0mstacklevel\u001b[0m\u001b[1;33m,\u001b[0m\u001b[1;33m\u001b[0m\u001b[1;33m\u001b[0m\u001b[0m\n\u001b[0;32m    310\u001b[0m                 )\n\u001b[1;32m--> 311\u001b[1;33m             \u001b[1;32mreturn\u001b[0m \u001b[0mfunc\u001b[0m\u001b[1;33m(\u001b[0m\u001b[1;33m*\u001b[0m\u001b[0margs\u001b[0m\u001b[1;33m,\u001b[0m \u001b[1;33m**\u001b[0m\u001b[0mkwargs\u001b[0m\u001b[1;33m)\u001b[0m\u001b[1;33m\u001b[0m\u001b[1;33m\u001b[0m\u001b[0m\n\u001b[0m\u001b[0;32m    312\u001b[0m \u001b[1;33m\u001b[0m\u001b[0m\n\u001b[0;32m    313\u001b[0m         \u001b[1;32mreturn\u001b[0m \u001b[0mwrapper\u001b[0m\u001b[1;33m\u001b[0m\u001b[1;33m\u001b[0m\u001b[0m\n",
      "\u001b[1;32m~\\anaconda3\\lib\\site-packages\\pandas\\io\\parsers\\readers.py\u001b[0m in \u001b[0;36mread_csv\u001b[1;34m(filepath_or_buffer, sep, delimiter, header, names, index_col, usecols, squeeze, prefix, mangle_dupe_cols, dtype, engine, converters, true_values, false_values, skipinitialspace, skiprows, skipfooter, nrows, na_values, keep_default_na, na_filter, verbose, skip_blank_lines, parse_dates, infer_datetime_format, keep_date_col, date_parser, dayfirst, cache_dates, iterator, chunksize, compression, thousands, decimal, lineterminator, quotechar, quoting, doublequote, escapechar, comment, encoding, encoding_errors, dialect, error_bad_lines, warn_bad_lines, on_bad_lines, delim_whitespace, low_memory, memory_map, float_precision, storage_options)\u001b[0m\n\u001b[0;32m    584\u001b[0m     \u001b[0mkwds\u001b[0m\u001b[1;33m.\u001b[0m\u001b[0mupdate\u001b[0m\u001b[1;33m(\u001b[0m\u001b[0mkwds_defaults\u001b[0m\u001b[1;33m)\u001b[0m\u001b[1;33m\u001b[0m\u001b[1;33m\u001b[0m\u001b[0m\n\u001b[0;32m    585\u001b[0m \u001b[1;33m\u001b[0m\u001b[0m\n\u001b[1;32m--> 586\u001b[1;33m     \u001b[1;32mreturn\u001b[0m \u001b[0m_read\u001b[0m\u001b[1;33m(\u001b[0m\u001b[0mfilepath_or_buffer\u001b[0m\u001b[1;33m,\u001b[0m \u001b[0mkwds\u001b[0m\u001b[1;33m)\u001b[0m\u001b[1;33m\u001b[0m\u001b[1;33m\u001b[0m\u001b[0m\n\u001b[0m\u001b[0;32m    587\u001b[0m \u001b[1;33m\u001b[0m\u001b[0m\n\u001b[0;32m    588\u001b[0m \u001b[1;33m\u001b[0m\u001b[0m\n",
      "\u001b[1;32m~\\anaconda3\\lib\\site-packages\\pandas\\io\\parsers\\readers.py\u001b[0m in \u001b[0;36m_read\u001b[1;34m(filepath_or_buffer, kwds)\u001b[0m\n\u001b[0;32m    480\u001b[0m \u001b[1;33m\u001b[0m\u001b[0m\n\u001b[0;32m    481\u001b[0m     \u001b[1;31m# Create the parser.\u001b[0m\u001b[1;33m\u001b[0m\u001b[1;33m\u001b[0m\u001b[0m\n\u001b[1;32m--> 482\u001b[1;33m     \u001b[0mparser\u001b[0m \u001b[1;33m=\u001b[0m \u001b[0mTextFileReader\u001b[0m\u001b[1;33m(\u001b[0m\u001b[0mfilepath_or_buffer\u001b[0m\u001b[1;33m,\u001b[0m \u001b[1;33m**\u001b[0m\u001b[0mkwds\u001b[0m\u001b[1;33m)\u001b[0m\u001b[1;33m\u001b[0m\u001b[1;33m\u001b[0m\u001b[0m\n\u001b[0m\u001b[0;32m    483\u001b[0m \u001b[1;33m\u001b[0m\u001b[0m\n\u001b[0;32m    484\u001b[0m     \u001b[1;32mif\u001b[0m \u001b[0mchunksize\u001b[0m \u001b[1;32mor\u001b[0m \u001b[0miterator\u001b[0m\u001b[1;33m:\u001b[0m\u001b[1;33m\u001b[0m\u001b[1;33m\u001b[0m\u001b[0m\n",
      "\u001b[1;32m~\\anaconda3\\lib\\site-packages\\pandas\\io\\parsers\\readers.py\u001b[0m in \u001b[0;36m__init__\u001b[1;34m(self, f, engine, **kwds)\u001b[0m\n\u001b[0;32m    809\u001b[0m             \u001b[0mself\u001b[0m\u001b[1;33m.\u001b[0m\u001b[0moptions\u001b[0m\u001b[1;33m[\u001b[0m\u001b[1;34m\"has_index_names\"\u001b[0m\u001b[1;33m]\u001b[0m \u001b[1;33m=\u001b[0m \u001b[0mkwds\u001b[0m\u001b[1;33m[\u001b[0m\u001b[1;34m\"has_index_names\"\u001b[0m\u001b[1;33m]\u001b[0m\u001b[1;33m\u001b[0m\u001b[1;33m\u001b[0m\u001b[0m\n\u001b[0;32m    810\u001b[0m \u001b[1;33m\u001b[0m\u001b[0m\n\u001b[1;32m--> 811\u001b[1;33m         \u001b[0mself\u001b[0m\u001b[1;33m.\u001b[0m\u001b[0m_engine\u001b[0m \u001b[1;33m=\u001b[0m \u001b[0mself\u001b[0m\u001b[1;33m.\u001b[0m\u001b[0m_make_engine\u001b[0m\u001b[1;33m(\u001b[0m\u001b[0mself\u001b[0m\u001b[1;33m.\u001b[0m\u001b[0mengine\u001b[0m\u001b[1;33m)\u001b[0m\u001b[1;33m\u001b[0m\u001b[1;33m\u001b[0m\u001b[0m\n\u001b[0m\u001b[0;32m    812\u001b[0m \u001b[1;33m\u001b[0m\u001b[0m\n\u001b[0;32m    813\u001b[0m     \u001b[1;32mdef\u001b[0m \u001b[0mclose\u001b[0m\u001b[1;33m(\u001b[0m\u001b[0mself\u001b[0m\u001b[1;33m)\u001b[0m\u001b[1;33m:\u001b[0m\u001b[1;33m\u001b[0m\u001b[1;33m\u001b[0m\u001b[0m\n",
      "\u001b[1;32m~\\anaconda3\\lib\\site-packages\\pandas\\io\\parsers\\readers.py\u001b[0m in \u001b[0;36m_make_engine\u001b[1;34m(self, engine)\u001b[0m\n\u001b[0;32m   1038\u001b[0m             )\n\u001b[0;32m   1039\u001b[0m         \u001b[1;31m# error: Too many arguments for \"ParserBase\"\u001b[0m\u001b[1;33m\u001b[0m\u001b[1;33m\u001b[0m\u001b[0m\n\u001b[1;32m-> 1040\u001b[1;33m         \u001b[1;32mreturn\u001b[0m \u001b[0mmapping\u001b[0m\u001b[1;33m[\u001b[0m\u001b[0mengine\u001b[0m\u001b[1;33m]\u001b[0m\u001b[1;33m(\u001b[0m\u001b[0mself\u001b[0m\u001b[1;33m.\u001b[0m\u001b[0mf\u001b[0m\u001b[1;33m,\u001b[0m \u001b[1;33m**\u001b[0m\u001b[0mself\u001b[0m\u001b[1;33m.\u001b[0m\u001b[0moptions\u001b[0m\u001b[1;33m)\u001b[0m  \u001b[1;31m# type: ignore[call-arg]\u001b[0m\u001b[1;33m\u001b[0m\u001b[1;33m\u001b[0m\u001b[0m\n\u001b[0m\u001b[0;32m   1041\u001b[0m \u001b[1;33m\u001b[0m\u001b[0m\n\u001b[0;32m   1042\u001b[0m     \u001b[1;32mdef\u001b[0m \u001b[0m_failover_to_python\u001b[0m\u001b[1;33m(\u001b[0m\u001b[0mself\u001b[0m\u001b[1;33m)\u001b[0m\u001b[1;33m:\u001b[0m\u001b[1;33m\u001b[0m\u001b[1;33m\u001b[0m\u001b[0m\n",
      "\u001b[1;32m~\\anaconda3\\lib\\site-packages\\pandas\\io\\parsers\\c_parser_wrapper.py\u001b[0m in \u001b[0;36m__init__\u001b[1;34m(self, src, **kwds)\u001b[0m\n\u001b[0;32m     49\u001b[0m \u001b[1;33m\u001b[0m\u001b[0m\n\u001b[0;32m     50\u001b[0m         \u001b[1;31m# open handles\u001b[0m\u001b[1;33m\u001b[0m\u001b[1;33m\u001b[0m\u001b[0m\n\u001b[1;32m---> 51\u001b[1;33m         \u001b[0mself\u001b[0m\u001b[1;33m.\u001b[0m\u001b[0m_open_handles\u001b[0m\u001b[1;33m(\u001b[0m\u001b[0msrc\u001b[0m\u001b[1;33m,\u001b[0m \u001b[0mkwds\u001b[0m\u001b[1;33m)\u001b[0m\u001b[1;33m\u001b[0m\u001b[1;33m\u001b[0m\u001b[0m\n\u001b[0m\u001b[0;32m     52\u001b[0m         \u001b[1;32massert\u001b[0m \u001b[0mself\u001b[0m\u001b[1;33m.\u001b[0m\u001b[0mhandles\u001b[0m \u001b[1;32mis\u001b[0m \u001b[1;32mnot\u001b[0m \u001b[1;32mNone\u001b[0m\u001b[1;33m\u001b[0m\u001b[1;33m\u001b[0m\u001b[0m\n\u001b[0;32m     53\u001b[0m \u001b[1;33m\u001b[0m\u001b[0m\n",
      "\u001b[1;32m~\\anaconda3\\lib\\site-packages\\pandas\\io\\parsers\\base_parser.py\u001b[0m in \u001b[0;36m_open_handles\u001b[1;34m(self, src, kwds)\u001b[0m\n\u001b[0;32m    220\u001b[0m         \u001b[0mLet\u001b[0m \u001b[0mthe\u001b[0m \u001b[0mreaders\u001b[0m \u001b[0mopen\u001b[0m \u001b[0mIOHandles\u001b[0m \u001b[0mafter\u001b[0m \u001b[0mthey\u001b[0m \u001b[0mare\u001b[0m \u001b[0mdone\u001b[0m \u001b[1;32mwith\u001b[0m \u001b[0mtheir\u001b[0m \u001b[0mpotential\u001b[0m \u001b[0mraises\u001b[0m\u001b[1;33m.\u001b[0m\u001b[1;33m\u001b[0m\u001b[1;33m\u001b[0m\u001b[0m\n\u001b[0;32m    221\u001b[0m         \"\"\"\n\u001b[1;32m--> 222\u001b[1;33m         self.handles = get_handle(\n\u001b[0m\u001b[0;32m    223\u001b[0m             \u001b[0msrc\u001b[0m\u001b[1;33m,\u001b[0m\u001b[1;33m\u001b[0m\u001b[1;33m\u001b[0m\u001b[0m\n\u001b[0;32m    224\u001b[0m             \u001b[1;34m\"r\"\u001b[0m\u001b[1;33m,\u001b[0m\u001b[1;33m\u001b[0m\u001b[1;33m\u001b[0m\u001b[0m\n",
      "\u001b[1;32m~\\anaconda3\\lib\\site-packages\\pandas\\io\\common.py\u001b[0m in \u001b[0;36mget_handle\u001b[1;34m(path_or_buf, mode, encoding, compression, memory_map, is_text, errors, storage_options)\u001b[0m\n\u001b[0;32m    700\u001b[0m         \u001b[1;32mif\u001b[0m \u001b[0mioargs\u001b[0m\u001b[1;33m.\u001b[0m\u001b[0mencoding\u001b[0m \u001b[1;32mand\u001b[0m \u001b[1;34m\"b\"\u001b[0m \u001b[1;32mnot\u001b[0m \u001b[1;32min\u001b[0m \u001b[0mioargs\u001b[0m\u001b[1;33m.\u001b[0m\u001b[0mmode\u001b[0m\u001b[1;33m:\u001b[0m\u001b[1;33m\u001b[0m\u001b[1;33m\u001b[0m\u001b[0m\n\u001b[0;32m    701\u001b[0m             \u001b[1;31m# Encoding\u001b[0m\u001b[1;33m\u001b[0m\u001b[1;33m\u001b[0m\u001b[0m\n\u001b[1;32m--> 702\u001b[1;33m             handle = open(\n\u001b[0m\u001b[0;32m    703\u001b[0m                 \u001b[0mhandle\u001b[0m\u001b[1;33m,\u001b[0m\u001b[1;33m\u001b[0m\u001b[1;33m\u001b[0m\u001b[0m\n\u001b[0;32m    704\u001b[0m                 \u001b[0mioargs\u001b[0m\u001b[1;33m.\u001b[0m\u001b[0mmode\u001b[0m\u001b[1;33m,\u001b[0m\u001b[1;33m\u001b[0m\u001b[1;33m\u001b[0m\u001b[0m\n",
      "\u001b[1;31mFileNotFoundError\u001b[0m: [Errno 2] No such file or directory: 'C:\\\\Users\\\\COMPUER\\\\Desktop\\\\DataScience\\\\vehicle insurance hackathon\\\\sample_submission.csv'"
     ]
    }
   ],
   "source": [
    "train = pd.read_csv(r'C:\\Users\\COMPUER\\Desktop\\DataScience\\vehicle insurance hackathon\\train.csv')\n",
    "test = pd.read_csv(r'C:\\Users\\COMPUER\\Desktop\\DataScience\\vehicle insurance hackathon\\test.csv')\n",
    "sample= pd.read_csv(r'C:\\Users\\COMPUER\\Desktop\\DataScience\\vehicle insurance hackathon\\sample_submission.csv')"
   ]
  },
  {
   "cell_type": "code",
   "execution_count": null,
   "id": "d66040ac",
   "metadata": {},
   "outputs": [],
   "source": [
    "train"
   ]
  },
  {
   "cell_type": "code",
   "execution_count": null,
   "id": "b8473e4d",
   "metadata": {},
   "outputs": [],
   "source": [
    "train.describe(include='all').T"
   ]
  },
  {
   "cell_type": "code",
   "execution_count": null,
   "id": "14888397",
   "metadata": {},
   "outputs": [],
   "source": [
    "train['Age'].nunique()"
   ]
  },
  {
   "cell_type": "code",
   "execution_count": null,
   "id": "eea1550f",
   "metadata": {},
   "outputs": [],
   "source": [
    "train[:5]"
   ]
  },
  {
   "cell_type": "code",
   "execution_count": null,
   "id": "06fc23bd",
   "metadata": {},
   "outputs": [],
   "source": [
    "train['Vehicle_Damage'].value_counts()"
   ]
  },
  {
   "cell_type": "code",
   "execution_count": null,
   "id": "2bde4098",
   "metadata": {},
   "outputs": [],
   "source": [
    "train.isnull().sum()\n"
   ]
  },
  {
   "cell_type": "code",
   "execution_count": null,
   "id": "0eb82aa1",
   "metadata": {},
   "outputs": [],
   "source": [
    "catColumns = ['Gender', 'Vehicle_Damage','Vehicle_Age']\n",
    "train_dum = pd.get_dummies(train, columns = catColumns)\n",
    "train_dum.head()"
   ]
  },
  {
   "cell_type": "code",
   "execution_count": null,
   "id": "2cd64fa7",
   "metadata": {},
   "outputs": [],
   "source": [
    "train_dum['Age_bins'] = pd.cut(x=train_dum['Age'], bins=[20, 30, 40, 50,60,70,80,85])"
   ]
  },
  {
   "cell_type": "code",
   "execution_count": null,
   "id": "ca0770fb",
   "metadata": {},
   "outputs": [],
   "source": [
    "train_dum.head()"
   ]
  },
  {
   "cell_type": "code",
   "execution_count": null,
   "id": "9b1b7b9b",
   "metadata": {},
   "outputs": [],
   "source": [
    "train_dum['Age_bins'].nunique()"
   ]
  },
  {
   "cell_type": "code",
   "execution_count": null,
   "id": "0bdf2892",
   "metadata": {},
   "outputs": [],
   "source": [
    "catColumns = ['Age_bins']\n",
    "train_dum = pd.get_dummies(train_dum, columns = catColumns)\n",
    "train_dum.head()"
   ]
  },
  {
   "cell_type": "code",
   "execution_count": null,
   "id": "d953686f",
   "metadata": {},
   "outputs": [],
   "source": [
    "train_dum.columns"
   ]
  },
  {
   "cell_type": "code",
   "execution_count": null,
   "id": "19ca0d90",
   "metadata": {},
   "outputs": [],
   "source": [
    "train_dum.head()"
   ]
  },
  {
   "cell_type": "code",
   "execution_count": null,
   "id": "e25fddc5",
   "metadata": {},
   "outputs": [],
   "source": [
    "train_dum['Region_Code'].nunique()"
   ]
  },
  {
   "cell_type": "code",
   "execution_count": null,
   "id": "30800f58",
   "metadata": {},
   "outputs": [],
   "source": [
    "train_dum['Vintage'].min()"
   ]
  },
  {
   "cell_type": "code",
   "execution_count": null,
   "id": "a6051bce",
   "metadata": {},
   "outputs": [],
   "source": [
    "train_dum['Vintage'].max()"
   ]
  },
  {
   "cell_type": "code",
   "execution_count": null,
   "id": "910d88ef",
   "metadata": {},
   "outputs": [],
   "source": [
    "train_dum.head()\n"
   ]
  },
  {
   "cell_type": "code",
   "execution_count": null,
   "id": "3db530d0",
   "metadata": {},
   "outputs": [],
   "source": [
    "train_dum['Vintage'].min()"
   ]
  },
  {
   "cell_type": "code",
   "execution_count": null,
   "id": "12952a0f",
   "metadata": {},
   "outputs": [],
   "source": [
    "train_dum['Vintage'].nunique()"
   ]
  },
  {
   "cell_type": "code",
   "execution_count": null,
   "id": "c8a9004d",
   "metadata": {},
   "outputs": [],
   "source": [
    "train_dum['Vintage_bins'] = pd.cut(x=train_dum['Vintage'], bins=[10,60,90,120,150,180,210,240,270,300])"
   ]
  },
  {
   "cell_type": "code",
   "execution_count": null,
   "id": "581d82c1",
   "metadata": {},
   "outputs": [],
   "source": [
    "train_dum['Vintage_bins'].value_counts()"
   ]
  },
  {
   "cell_type": "code",
   "execution_count": null,
   "id": "b979fad0",
   "metadata": {},
   "outputs": [],
   "source": [
    "train_dum"
   ]
  },
  {
   "cell_type": "code",
   "execution_count": null,
   "id": "a551faa0",
   "metadata": {},
   "outputs": [],
   "source": [
    "catColumns = ['Vintage_bins']\n",
    "train_dum = pd.get_dummies(train_dum, columns = catColumns)\n",
    "train_dum.head()"
   ]
  },
  {
   "cell_type": "code",
   "execution_count": null,
   "id": "5183cae2",
   "metadata": {},
   "outputs": [],
   "source": [
    "train_dum['Annual_Premium'].value_counts()"
   ]
  },
  {
   "cell_type": "code",
   "execution_count": null,
   "id": "05ca62bf",
   "metadata": {
    "scrolled": true
   },
   "outputs": [],
   "source": [
    " train_dum['Annual_Premium'] =[1 if x== 2630 else 0 for x in train_dum['Annual_Premium']]"
   ]
  },
  {
   "cell_type": "code",
   "execution_count": null,
   "id": "e9cf2011",
   "metadata": {},
   "outputs": [],
   "source": [
    "train_dum['Annual_Premium'].value_counts()"
   ]
  },
  {
   "cell_type": "code",
   "execution_count": null,
   "id": "5bccc8ab",
   "metadata": {},
   "outputs": [],
   "source": [
    "catColumns = ['Region_Code']\n",
    "train_dum = pd.get_dummies(train_dum, columns = catColumns)\n",
    "train_dum.head()\n"
   ]
  },
  {
   "cell_type": "code",
   "execution_count": null,
   "id": "91a7ce6f",
   "metadata": {},
   "outputs": [],
   "source": [
    "train_dum.columns\n"
   ]
  },
  {
   "cell_type": "code",
   "execution_count": null,
   "id": "5cd13678",
   "metadata": {},
   "outputs": [],
   "source": [
    "catColumns = ['Gender', 'Vehicle_Damage','Vehicle_Age']\n",
    "test_dum = pd.get_dummies(test, columns = catColumns)\n",
    "test_dum.head()"
   ]
  },
  {
   "cell_type": "code",
   "execution_count": null,
   "id": "29b000ea",
   "metadata": {},
   "outputs": [],
   "source": [
    "test_dum['Age_bins'] = pd.cut(x=test_dum['Age'], bins=[20, 30, 40, 50,60,70,80,85])"
   ]
  },
  {
   "cell_type": "code",
   "execution_count": null,
   "id": "2fac3d03",
   "metadata": {},
   "outputs": [],
   "source": [
    "test_dum = pd.get_dummies(test_dum, columns = ['Age_bins'])\n",
    "test_dum.head()"
   ]
  },
  {
   "cell_type": "code",
   "execution_count": null,
   "id": "921b0104",
   "metadata": {},
   "outputs": [],
   "source": [
    "test_dum['Vintage_bins'] = pd.cut(x=test_dum['Vintage'], bins=[10,60,90,120,150,180,210,240,270,300])\n",
    "test_dum.head()"
   ]
  },
  {
   "cell_type": "code",
   "execution_count": null,
   "id": "3a5fc4c6",
   "metadata": {},
   "outputs": [],
   "source": [
    " test_dum['Annual_Premium'] =[1 if x== 2630 else 0 for x in test_dum['Annual_Premium']]"
   ]
  },
  {
   "cell_type": "code",
   "execution_count": null,
   "id": "2b4d8f60",
   "metadata": {},
   "outputs": [],
   "source": [
    "catColumns = ['Vintage_bins']\n",
    "test_dum = pd.get_dummies(test_dum, columns = catColumns)\n",
    "test_dum.head()"
   ]
  },
  {
   "cell_type": "code",
   "execution_count": null,
   "id": "84a1f231",
   "metadata": {},
   "outputs": [],
   "source": [
    "test_dum['Annual_Premium'].value_counts()"
   ]
  },
  {
   "cell_type": "code",
   "execution_count": null,
   "id": "2770f601",
   "metadata": {},
   "outputs": [],
   "source": [
    "train_preprocessed = train_dum.drop(columns=['id','Age','Policy_Sales_Channel','Vintage'])\n",
    "test_preprocessed = test_dum.drop(columns=['id','Age','Policy_Sales_Channel','Vintage'])"
   ]
  },
  {
   "cell_type": "code",
   "execution_count": null,
   "id": "ad67669f",
   "metadata": {},
   "outputs": [],
   "source": [
    "train_preprocessed.to_csv(\"train_preprocessed.csv\", index = False)\n",
    "test_preprocessed.to_csv(\"test_preprocessed.csv\", index = False)"
   ]
  },
  {
   "cell_type": "code",
   "execution_count": null,
   "id": "6f2143e9",
   "metadata": {},
   "outputs": [],
   "source": [
    "test_preprocessed.columns"
   ]
  },
  {
   "cell_type": "code",
   "execution_count": 193,
   "id": "939aac2b",
   "metadata": {},
   "outputs": [],
   "source": [
    "train_mo = pd.read_csv(\"train_preprocessed.csv\")\n",
    "test_mo = pd.read_csv(\"test_preprocessed.csv\")\n",
    "sample = pd.read_csv(\"sample_submission_veh.csv\")"
   ]
  },
  {
   "cell_type": "code",
   "execution_count": null,
   "id": "0909e547",
   "metadata": {},
   "outputs": [],
   "source": [
    "sample"
   ]
  },
  {
   "cell_type": "code",
   "execution_count": 194,
   "id": "95abb4bc",
   "metadata": {},
   "outputs": [],
   "source": [
    "X = train_mo.drop(columns = 'Response')\n",
    "y = train_mo['Response']"
   ]
  },
  {
   "cell_type": "code",
   "execution_count": 195,
   "id": "cc6f61af",
   "metadata": {},
   "outputs": [],
   "source": [
    "train_X, test_X, train_y, test_y = train_test_split(X,y, test_size = 0.2, random_state=32)\n"
   ]
  },
  {
   "cell_type": "code",
   "execution_count": 196,
   "id": "56116b40",
   "metadata": {},
   "outputs": [
    {
     "data": {
      "text/plain": [
       "LinearRegression()"
      ]
     },
     "execution_count": 196,
     "metadata": {},
     "output_type": "execute_result"
    }
   ],
   "source": [
    "model = LinearRegression()\n",
    "model.fit(train_X, train_y)"
   ]
  },
  {
   "cell_type": "code",
   "execution_count": 166,
   "id": "a96aad3c",
   "metadata": {},
   "outputs": [
    {
     "data": {
      "text/plain": [
       "array([ 1.48794432e-14,  6.76264600e-14,  3.49720253e-15,  1.00000000e+00,\n",
       "       -2.52492994e-01, -2.52492994e-01,  1.59071941e-01,  1.59071941e-01,\n",
       "        4.09475721e-02,  4.09475721e-02,  4.09475721e-02, -3.67761377e-16,\n",
       "       -4.99600361e-16,  1.11022302e-16,  3.33066907e-16,  6.66133815e-16,\n",
       "       -5.55111512e-16,  7.49400542e-16,  9.71445147e-17, -2.91433544e-16,\n",
       "       -4.16333634e-17, -6.93889390e-16, -3.01841885e-16,  1.45283091e-16,\n",
       "       -5.29090660e-17, -3.12250226e-16,  3.31332184e-16, -8.75122758e-02,\n",
       "       -8.75122758e-02, -8.75122758e-02, -8.75122758e-02, -8.75122758e-02,\n",
       "       -8.75122758e-02, -8.75122758e-02, -8.75122758e-02, -8.75122758e-02,\n",
       "       -8.75122758e-02, -8.75122758e-02, -8.75122758e-02, -8.75122758e-02,\n",
       "       -8.75122758e-02, -8.75122758e-02, -8.75122758e-02, -8.75122758e-02,\n",
       "       -8.75122758e-02, -8.75122758e-02, -8.75122758e-02, -8.75122758e-02,\n",
       "       -8.75122758e-02, -8.75122758e-02, -8.75122758e-02, -8.75122758e-02,\n",
       "       -8.75122758e-02, -8.75122758e-02, -8.75122758e-02, -8.75122758e-02,\n",
       "       -8.75122758e-02, -8.75122758e-02, -8.75122758e-02, -8.75122758e-02,\n",
       "       -8.75122758e-02, -8.75122758e-02, -8.75122758e-02, -8.75122758e-02,\n",
       "       -8.75122758e-02, -8.75122758e-02, -8.75122758e-02, -8.75122758e-02,\n",
       "       -8.75122758e-02, -8.75122758e-02, -8.75122758e-02, -8.75122758e-02,\n",
       "       -8.75122758e-02, -8.75122758e-02, -8.75122758e-02, -8.75122758e-02,\n",
       "       -8.75122758e-02, -8.75122758e-02, -8.75122758e-02, -8.75122758e-02])"
      ]
     },
     "execution_count": 166,
     "metadata": {},
     "output_type": "execute_result"
    }
   ],
   "source": [
    "model.coef_"
   ]
  },
  {
   "cell_type": "code",
   "execution_count": 197,
   "id": "98a70cd0",
   "metadata": {},
   "outputs": [
    {
     "data": {
      "text/plain": [
       "-4408440031.005305"
      ]
     },
     "execution_count": 197,
     "metadata": {},
     "output_type": "execute_result"
    }
   ],
   "source": [
    "model.intercept_\n"
   ]
  },
  {
   "cell_type": "code",
   "execution_count": 206,
   "id": "36a10462",
   "metadata": {},
   "outputs": [
    {
     "data": {
      "text/plain": [
       "array([-0.06900311,  0.34083271,  0.31942081, ...,  0.08939648,\n",
       "        0.01029968, -0.01637268])"
      ]
     },
     "execution_count": 206,
     "metadata": {},
     "output_type": "execute_result"
    }
   ],
   "source": [
    "train_X_pred = model.predict(train_X)\n",
    "test_X_pred = model.predict(test_X)\n",
    "train_X_pred\n",
    "test_X_pred"
   ]
  },
  {
   "cell_type": "code",
   "execution_count": 199,
   "id": "4be6d5a5",
   "metadata": {},
   "outputs": [
    {
     "name": "stdout",
     "output_type": "stream",
     "text": [
      "Train RMSE :  0.30139344177351163\n",
      "Test RMSE :  0.30029419439219146\n"
     ]
    }
   ],
   "source": [
    "train_X_RMSE = np.sqrt(mean_squared_error(train_y, train_X_pred))\n",
    "test_X_RMSE = np.sqrt(mean_squared_error(test_y, test_X_pred))\n",
    "\n",
    "print(\"Train RMSE : \",train_X_RMSE)\n",
    "print(\"Test RMSE : \",test_X_RMSE)"
   ]
  },
  {
   "cell_type": "code",
   "execution_count": 263,
   "id": "62b41b42",
   "metadata": {},
   "outputs": [],
   "source": [
    "train_X_R2 = r2_score(train_y, train_X_pred)\n",
    "test_X_R2 = r2_score(test_y, test_X_pred)"
   ]
  },
  {
   "cell_type": "code",
   "execution_count": 264,
   "id": "f725b75b",
   "metadata": {},
   "outputs": [
    {
     "name": "stdout",
     "output_type": "stream",
     "text": [
      "Train R2 :  0.1576098461813512\n",
      "Test R2 :  0.15223902755891117\n"
     ]
    }
   ],
   "source": [
    "print(\"Train R2 : \",train_X_R2)\n",
    "print(\"Test R2 : \",test_X_R2)"
   ]
  },
  {
   "cell_type": "code",
   "execution_count": 239,
   "id": "70bb0d2b",
   "metadata": {},
   "outputs": [],
   "source": [
    "test_pred = model.predict(test_mo)"
   ]
  },
  {
   "cell_type": "code",
   "execution_count": 252,
   "id": "7a53a28a",
   "metadata": {},
   "outputs": [
    {
     "data": {
      "text/plain": [
       "array([0, 0, 0, ..., 0, 0, 0])"
      ]
     },
     "execution_count": 252,
     "metadata": {},
     "output_type": "execute_result"
    }
   ],
   "source": [
    "test_pred_modified = np.where(test_pred<0,0,1)\n",
    "\n",
    "test_pred_modified"
   ]
  },
  {
   "cell_type": "code",
   "execution_count": 251,
   "id": "b35ce47a",
   "metadata": {},
   "outputs": [
    {
     "data": {
      "text/plain": [
       "array([0., 0., 0., ..., 0., 0., 0.])"
      ]
     },
     "execution_count": 251,
     "metadata": {},
     "output_type": "execute_result"
    }
   ],
   "source": []
  },
  {
   "cell_type": "code",
   "execution_count": 256,
   "id": "ad9a5c6d",
   "metadata": {},
   "outputs": [],
   "source": [
    "test['Response'] = test_pred_modified\n"
   ]
  },
  {
   "cell_type": "code",
   "execution_count": 258,
   "id": "21f25023",
   "metadata": {},
   "outputs": [],
   "source": [
    "output = test[[ \"id\", \"Response\"]]"
   ]
  },
  {
   "cell_type": "code",
   "execution_count": 260,
   "id": "803e47f5",
   "metadata": {},
   "outputs": [
    {
     "data": {
      "text/plain": [
       "0    114011\n",
       "1     13026\n",
       "Name: Response, dtype: int64"
      ]
     },
     "execution_count": 260,
     "metadata": {},
     "output_type": "execute_result"
    }
   ],
   "source": [
    "output['Response'].value_counts()\n"
   ]
  },
  {
   "cell_type": "code",
   "execution_count": 262,
   "id": "86b9c197",
   "metadata": {},
   "outputs": [],
   "source": [
    "output.to_csv(\"result_vechile.csv\", index = False)\n"
   ]
  },
  {
   "cell_type": "code",
   "execution_count": null,
   "id": "64a794c3",
   "metadata": {},
   "outputs": [],
   "source": []
  }
 ],
 "metadata": {
  "kernelspec": {
   "display_name": "Python 3 (ipykernel)",
   "language": "python",
   "name": "python3"
  },
  "language_info": {
   "codemirror_mode": {
    "name": "ipython",
    "version": 3
   },
   "file_extension": ".py",
   "mimetype": "text/x-python",
   "name": "python",
   "nbconvert_exporter": "python",
   "pygments_lexer": "ipython3",
   "version": "3.9.7"
  }
 },
 "nbformat": 4,
 "nbformat_minor": 5
}
