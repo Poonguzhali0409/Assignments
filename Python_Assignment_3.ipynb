{
  "nbformat": 4,
  "nbformat_minor": 0,
  "metadata": {
    "colab": {
      "name": "Python_Assignment_3.ipynb",
      "provenance": [],
      "collapsed_sections": [],
      "authorship_tag": "ABX9TyP4vylyufvLIA5CuaLbaOVf",
      "include_colab_link": true
    },
    "kernelspec": {
      "name": "python3",
      "display_name": "Python 3"
    },
    "language_info": {
      "name": "python"
    }
  },
  "cells": [
    {
      "cell_type": "markdown",
      "metadata": {
        "id": "view-in-github",
        "colab_type": "text"
      },
      "source": [
        "<a href=\"https://colab.research.google.com/github/Poonguzhali0409/Assignments/blob/main/Python_Assignment_3.ipynb\" target=\"_parent\"><img src=\"https://colab.research.google.com/assets/colab-badge.svg\" alt=\"Open In Colab\"/></a>"
      ]
    },
    {
      "cell_type": "code",
      "execution_count": null,
      "metadata": {
        "colab": {
          "base_uri": "https://localhost:8080/"
        },
        "id": "ZSyFTpSZUpbX",
        "outputId": "2e3f75b6-7b49-4ffc-ace6-9b9badd9b1a9"
      },
      "outputs": [
        {
          "output_type": "stream",
          "name": "stdout",
          "text": [
            "Enter a number to get the factorial : 3\n",
            "6\n",
            "convert degree to Fahrenheit : 6\n",
            "42.8\n"
          ]
        }
      ],
      "source": [
        "##from calc import fact,conv\n",
        "# tried in anaconda / created calc.py in site-packages\n",
        "\n",
        "def fact (num) :\n",
        "   if num==1 :\n",
        "      return 1\n",
        "   else :\n",
        "     return num*fact(num-1)\n",
        "\n",
        "def conv (deg) :\n",
        "  return deg*9/5+32\n",
        "\n",
        "num = int(input (\"Enter a number to get the factorial : \"))\n",
        "print(fact(num))\n",
        "deg = int(input(\"convert degree to Fahrenheit : \"))\n",
        "print(conv(deg))"
      ]
    },
    {
      "cell_type": "markdown",
      "source": [
        "**Fibonacci series**"
      ],
      "metadata": {
        "id": "tBcqPpbaeqcV"
      }
    },
    {
      "cell_type": "code",
      "source": [
        "def fin(n):\n",
        "    a, b = 0, 1\n",
        "\n",
        "    for i in range(n):\n",
        "        yield a\n",
        "        a, b = b, a + b\n",
        "\n",
        "\n",
        "ln = int(input('Enter a number '))\n",
        "print(list(fin(ln)))"
      ],
      "metadata": {
        "colab": {
          "base_uri": "https://localhost:8080/"
        },
        "id": "Bt1ZTLG3rYlc",
        "outputId": "b07d4dbb-0c9a-4c59-ebf0-24b8d4d066db"
      },
      "execution_count": null,
      "outputs": [
        {
          "output_type": "stream",
          "name": "stdout",
          "text": [
            "Enter a number 10\n",
            "[0, 1, 1, 2, 3, 5, 8, 13, 21, 34]\n"
          ]
        }
      ]
    },
    {
      "cell_type": "markdown",
      "source": [
        "**Reverse**\n"
      ],
      "metadata": {
        "id": "Nt8O7dsAgfF1"
      }
    },
    {
      "cell_type": "code",
      "source": [
        "my_list = [2, 9, 8, 3]\n",
        "emp=[]\n",
        "\n",
        "my_iter = iter(my_list)\n",
        "\n",
        "for i in range(len(my_list)):\n",
        "    print(next(my_iter))\n",
        "\n",
        "for i in range(len(my_list)-1,-1,-1):\n",
        "    emp.append(my_list[i])\n",
        "    \n",
        "print(emp)\n"
      ],
      "metadata": {
        "colab": {
          "base_uri": "https://localhost:8080/"
        },
        "id": "BzfU77p9n2nt",
        "outputId": "09f1461d-090e-4c02-9a94-d3eb083a00e8"
      },
      "execution_count": null,
      "outputs": [
        {
          "output_type": "stream",
          "name": "stdout",
          "text": [
            "2\n",
            "9\n",
            "8\n",
            "3\n",
            "[3, 8, 9, 2]\n"
          ]
        }
      ]
    },
    {
      "cell_type": "markdown",
      "source": [
        "### **Decorator function**\n",
        "\n",
        "\n",
        "\n"
      ],
      "metadata": {
        "id": "VPH1YVfCsdzE"
      }
    },
    {
      "cell_type": "code",
      "source": [
        "def salary (dec_fun ):\n",
        "  def nest (basepay,hra,spl):\n",
        "    print('Base Pay : ',basepay,'HRA : ',hra,'Special Allowance : ',spl)\n",
        "    basepay = basepay*30/100\n",
        "    print('Base Pay with tax : ', basepay)\n",
        "    return dec_fun(basepay,hra,spl)\n",
        "  return nest"
      ],
      "metadata": {
        "id": "kYZhOvPHfvDX"
      },
      "execution_count": null,
      "outputs": []
    },
    {
      "cell_type": "code",
      "source": [
        "@salary\n",
        "def ord_func (basepay,hra,spl):\n",
        "  sum = basepay+hra+spl\n",
        "  print('Gross Salary : ',sum)\n",
        "\n",
        "\n",
        "ord_func(30000,14000,6000)"
      ],
      "metadata": {
        "colab": {
          "base_uri": "https://localhost:8080/"
        },
        "id": "56VpOfSbuqb7",
        "outputId": "d11e2939-3ac8-4ea4-9828-582523431c16"
      },
      "execution_count": null,
      "outputs": [
        {
          "output_type": "stream",
          "name": "stdout",
          "text": [
            "Base Pay :  30000 HRA :  14000 Special Allowance :  6000\n",
            "Base Pay with tax :  9000.0\n",
            "Gross Salary :  29000.0\n"
          ]
        }
      ]
    },
    {
      "cell_type": "markdown",
      "source": [
        "**Tuple**"
      ],
      "metadata": {
        "id": "97U9Ho7W1jkZ"
      }
    },
    {
      "cell_type": "code",
      "source": [
        "tupl1 = (1,2,[1,2,3])\n",
        "tupl1[2][0]= 2\n",
        "tupl1"
      ],
      "metadata": {
        "colab": {
          "base_uri": "https://localhost:8080/"
        },
        "id": "MG_Sya47xuMQ",
        "outputId": "c435d06f-4d22-427d-abc0-babc634f15f7"
      },
      "execution_count": null,
      "outputs": [
        {
          "output_type": "execute_result",
          "data": {
            "text/plain": [
              "(1, 2, [2, 2, 3])"
            ]
          },
          "metadata": {},
          "execution_count": 64
        }
      ]
    },
    {
      "cell_type": "code",
      "source": [
        "t = (5,7,8,90)\n",
        "lst = list(t)\n",
        "lst[0] = 300\n",
        "t = tuple(lst)\n",
        "print(t)"
      ],
      "metadata": {
        "id": "xfZpn2CH1iEf",
        "colab": {
          "base_uri": "https://localhost:8080/"
        },
        "outputId": "5fc0d23d-8bc3-430f-bcda-92654858d5e5"
      },
      "execution_count": 2,
      "outputs": [
        {
          "output_type": "stream",
          "name": "stdout",
          "text": [
            "(300, 7, 8, 90)\n"
          ]
        }
      ]
    },
    {
      "cell_type": "code",
      "source": [
        "h=(1,2,3)\n",
        "g=(4,5,6)\n",
        "print(g+h)\n"
      ],
      "metadata": {
        "colab": {
          "base_uri": "https://localhost:8080/"
        },
        "id": "ksiU-EY1n9B6",
        "outputId": "f45a5eb5-2328-469a-bb33-e6551539da4a"
      },
      "execution_count": 9,
      "outputs": [
        {
          "output_type": "stream",
          "name": "stdout",
          "text": [
            "(4, 5, 6, 1, 2, 3)\n"
          ]
        }
      ]
    },
    {
      "cell_type": "code",
      "source": [
        ""
      ],
      "metadata": {
        "id": "92OynVBOoZEk"
      },
      "execution_count": null,
      "outputs": []
    }
  ]
}