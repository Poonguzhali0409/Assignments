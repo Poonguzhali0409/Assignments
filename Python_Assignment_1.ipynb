{
  "nbformat": 4,
  "nbformat_minor": 0,
  "metadata": {
    "colab": {
      "name": "Python_Assignment_1.ipynb",
      "provenance": [],
      "toc_visible": true,
      "authorship_tag": "ABX9TyMWs34B0IphZXME6hJhZBkX",
      "include_colab_link": true
    },
    "kernelspec": {
      "name": "python3",
      "display_name": "Python 3"
    },
    "language_info": {
      "name": "python"
    }
  },
  "cells": [
    {
      "cell_type": "markdown",
      "metadata": {
        "id": "view-in-github",
        "colab_type": "text"
      },
      "source": [
        "<a href=\"https://colab.research.google.com/github/Poonguzhali0409/Assignments/blob/main/Python_Assignment_1.ipynb\" target=\"_parent\"><img src=\"https://colab.research.google.com/assets/colab-badge.svg\" alt=\"Open In Colab\"/></a>"
      ]
    },
    {
      "cell_type": "markdown",
      "source": [
        "### **1.Import**"
      ],
      "metadata": {
        "id": "69Q9rJfetV9T"
      }
    },
    {
      "cell_type": "code",
      "source": [
        "import os\n",
        "os. getcwd()\n",
        "print('current directory',os. getcwd())\n",
        "os.chdir('../')\n",
        "print('changes',os.chdir('../'))\n"
      ],
      "metadata": {
        "colab": {
          "base_uri": "https://localhost:8080/"
        },
        "id": "WLOa9_WQteMk",
        "outputId": "f7156e23-ad6d-4ecd-dc50-ceecf4418ad7"
      },
      "execution_count": 13,
      "outputs": [
        {
          "output_type": "stream",
          "name": "stdout",
          "text": [
            "current directory /\n",
            "After changes None\n"
          ]
        }
      ]
    },
    {
      "cell_type": "markdown",
      "source": [
        "### **2.Create a string**"
      ],
      "metadata": {
        "id": "X4_WJFMLvYiR"
      }
    },
    {
      "cell_type": "code",
      "source": [
        "string='dummy';integer=20;floatt=30.22\n",
        "print(string,integer,floatt)\n"
      ],
      "metadata": {
        "colab": {
          "base_uri": "https://localhost:8080/"
        },
        "id": "tFMWe1t-vgDh",
        "outputId": "41cc8550-a868-48c7-dc04-61cfe8f9f14b"
      },
      "execution_count": 19,
      "outputs": [
        {
          "output_type": "stream",
          "name": "stdout",
          "text": [
            "dummy 20 30.22\n"
          ]
        }
      ]
    },
    {
      "cell_type": "code",
      "source": [
        "del string,integer,floatt"
      ],
      "metadata": {
        "id": "6QnV3lOyv8Mf"
      },
      "execution_count": 20,
      "outputs": []
    },
    {
      "cell_type": "markdown",
      "source": [
        "### **3.Assigning value to a keyword**"
      ],
      "metadata": {
        "id": "B-gmLTZswOSS"
      }
    },
    {
      "cell_type": "code",
      "source": [
        "pass = 'hi'"
      ],
      "metadata": {
        "colab": {
          "base_uri": "https://localhost:8080/",
          "height": 130
        },
        "id": "0WXWKjfawYwZ",
        "outputId": "15af77fb-4cea-48ff-a6ee-a21a13bc2992"
      },
      "execution_count": 23,
      "outputs": [
        {
          "output_type": "error",
          "ename": "SyntaxError",
          "evalue": "ignored",
          "traceback": [
            "\u001b[0;36m  File \u001b[0;32m\"<ipython-input-23-c75fde1af1dd>\"\u001b[0;36m, line \u001b[0;32m1\u001b[0m\n\u001b[0;31m    pass = 'hi'\u001b[0m\n\u001b[0m         ^\u001b[0m\n\u001b[0;31mSyntaxError\u001b[0m\u001b[0;31m:\u001b[0m invalid syntax\n"
          ]
        }
      ]
    },
    {
      "cell_type": "markdown",
      "source": [
        "### **4.Multi-line statement**"
      ],
      "metadata": {
        "id": "4_tjaxexxH1Z"
      }
    },
    {
      "cell_type": "code",
      "source": [
        "summ = (12+13+14+\n",
        "        16+18+19+\n",
        "        20+30)\n",
        "print(summ)"
      ],
      "metadata": {
        "colab": {
          "base_uri": "https://localhost:8080/"
        },
        "id": "0A924jG6xRu6",
        "outputId": "c46ec174-ddaf-460f-af1e-e96d1f90f08a"
      },
      "execution_count": 24,
      "outputs": [
        {
          "output_type": "stream",
          "name": "stdout",
          "text": [
            "142\n"
          ]
        }
      ]
    },
    {
      "cell_type": "markdown",
      "source": [
        "### **5.List with interval**"
      ],
      "metadata": {
        "id": "OYC1teQkxuDg"
      }
    },
    {
      "cell_type": "code",
      "source": [
        "exp = range(100,999,8)\n",
        "final =[a for a in exp]\n",
        "print(final)"
      ],
      "metadata": {
        "colab": {
          "base_uri": "https://localhost:8080/"
        },
        "id": "HgKij_pvxz4g",
        "outputId": "5280a110-6ba2-4bcd-9fd6-1fb5d2a09579"
      },
      "execution_count": 26,
      "outputs": [
        {
          "output_type": "stream",
          "name": "stdout",
          "text": [
            "[100, 108, 116, 124, 132, 140, 148, 156, 164, 172, 180, 188, 196, 204, 212, 220, 228, 236, 244, 252, 260, 268, 276, 284, 292, 300, 308, 316, 324, 332, 340, 348, 356, 364, 372, 380, 388, 396, 404, 412, 420, 428, 436, 444, 452, 460, 468, 476, 484, 492, 500, 508, 516, 524, 532, 540, 548, 556, 564, 572, 580, 588, 596, 604, 612, 620, 628, 636, 644, 652, 660, 668, 676, 684, 692, 700, 708, 716, 724, 732, 740, 748, 756, 764, 772, 780, 788, 796, 804, 812, 820, 828, 836, 844, 852, 860, 868, 876, 884, 892, 900, 908, 916, 924, 932, 940, 948, 956, 964, 972, 980, 988, 996]\n"
          ]
        }
      ]
    },
    {
      "cell_type": "markdown",
      "source": [
        "### **6. For loop**"
      ],
      "metadata": {
        "id": "Aq3CeXubyl2h"
      }
    },
    {
      "cell_type": "code",
      "source": [
        "for n in range(1,10):\n",
        "  if n==5:\n",
        "    break\n",
        "  print(n)\n"
      ],
      "metadata": {
        "colab": {
          "base_uri": "https://localhost:8080/"
        },
        "id": "5S-zXzhQyr11",
        "outputId": "5d56cbac-4148-4907-c687-e0a0450895fc"
      },
      "execution_count": 65,
      "outputs": [
        {
          "output_type": "stream",
          "name": "stdout",
          "text": [
            "1\n",
            "2\n",
            "3\n",
            "4\n"
          ]
        }
      ]
    },
    {
      "cell_type": "markdown",
      "source": [
        "### **7.doc_function**"
      ],
      "metadata": {
        "id": "SDDScK2V1FCb"
      }
    },
    {
      "cell_type": "code",
      "source": [
        "def docfunction():\n",
        "  '''Hi im doc function'''\n",
        "  return None\n",
        "print('Calling function....')\n",
        "print(docfunction.__doc__)"
      ],
      "metadata": {
        "colab": {
          "base_uri": "https://localhost:8080/"
        },
        "id": "0ay697YQ1LUI",
        "outputId": "cca3241a-86f1-4b12-e0e5-9fb046dc8a79"
      },
      "execution_count": 48,
      "outputs": [
        {
          "output_type": "stream",
          "name": "stdout",
          "text": [
            "Calling function....\n",
            "Hi im doc function\n"
          ]
        }
      ]
    },
    {
      "cell_type": "markdown",
      "source": [
        "### **8.package** \n"
      ],
      "metadata": {
        "id": "3GAJXs6g170p"
      }
    },
    {
      "cell_type": "code",
      "source": [
        "#worked in local machine\n",
        "from area import values\n",
        "\n",
        "def areatriangles():\n",
        "    s=(values.a+values.b+values.c)/2\n",
        "    print('Semi-Perimeter : ',s)\n",
        "    tri = (s*(s-values.a)*(s-values.b)*(s-values.c)) ** 0.5\n",
        "    print('Area of a Triangle : ',tri)\n",
        "    \n",
        "print(areatriangles())\n",
        "\n",
        "output :\n",
        "\n",
        "Semi-Perimeter :  41.5\n",
        "Area of a Triangle :  (3.097937745838546e-14+505.93162828587816j)\n",
        "None"
      ],
      "metadata": {
        "id": "DLCrsoBR8DAq"
      },
      "execution_count": null,
      "outputs": []
    },
    {
      "cell_type": "markdown",
      "source": [
        "### **9.List Comprehension**"
      ],
      "metadata": {
        "id": "AolmbfYt8ZFd"
      }
    },
    {
      "cell_type": "code",
      "source": [
        "odd = [a for a in range(100) if a%2!=0]\n",
        "print(odd)"
      ],
      "metadata": {
        "colab": {
          "base_uri": "https://localhost:8080/"
        },
        "id": "I4maKdN-8eXi",
        "outputId": "f6a3e259-e913-48a3-a0a5-ce4a8669beba"
      },
      "execution_count": 52,
      "outputs": [
        {
          "output_type": "stream",
          "name": "stdout",
          "text": [
            "[1, 3, 5, 7, 9, 11, 13, 15, 17, 19, 21, 23, 25, 27, 29, 31, 33, 35, 37, 39, 41, 43, 45, 47, 49, 51, 53, 55, 57, 59, 61, 63, 65, 67, 69, 71, 73, 75, 77, 79, 81, 83, 85, 87, 89, 91, 93, 95, 97, 99]\n"
          ]
        }
      ]
    },
    {
      "cell_type": "markdown",
      "source": [
        "### **10.vowels**"
      ],
      "metadata": {
        "id": "cbPigBPH82Q6"
      }
    },
    {
      "cell_type": "code",
      "source": [
        "name = 'poonguzhali'\n",
        "vowels='aeiou'\n",
        "vowelss = [a for a in name if a not in vowels]\n",
        "print(vowelss)"
      ],
      "metadata": {
        "colab": {
          "base_uri": "https://localhost:8080/"
        },
        "id": "LRd8VqX786cH",
        "outputId": "d544af16-e0a5-4d99-ca8e-f23307cc0e95"
      },
      "execution_count": 66,
      "outputs": [
        {
          "output_type": "stream",
          "name": "stdout",
          "text": [
            "['p', 'n', 'g', 'z', 'h', 'l']\n"
          ]
        }
      ]
    },
    {
      "cell_type": "code",
      "source": [
        ""
      ],
      "metadata": {
        "id": "b8HTH3wy9K8v"
      },
      "execution_count": null,
      "outputs": []
    }
  ]
}