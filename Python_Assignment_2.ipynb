{
  "nbformat": 4,
  "nbformat_minor": 0,
  "metadata": {
    "colab": {
      "name": "Python_Assignment_2.ipynb",
      "provenance": [],
      "toc_visible": true,
      "authorship_tag": "ABX9TyNGVnKWxGhinnHsVGr4IxKi",
      "include_colab_link": true
    },
    "kernelspec": {
      "name": "python3",
      "display_name": "Python 3"
    },
    "language_info": {
      "name": "python"
    }
  },
  "cells": [
    {
      "cell_type": "markdown",
      "metadata": {
        "id": "view-in-github",
        "colab_type": "text"
      },
      "source": [
        "<a href=\"https://colab.research.google.com/github/Poonguzhali0409/Assignments/blob/main/Python_Assignment_2.ipynb\" target=\"_parent\"><img src=\"https://colab.research.google.com/assets/colab-badge.svg\" alt=\"Open In Colab\"/></a>"
      ]
    },
    {
      "cell_type": "markdown",
      "source": [
        "### **sum of 2 nums using function**"
      ],
      "metadata": {
        "id": "l45AENwdiLR2"
      }
    },
    {
      "cell_type": "code",
      "source": [
        "def sumof(a,b) :\n",
        "  return a+b\n",
        "  \n",
        "a = int(input(\"Enter number a : \"))\n",
        "b = int(input(\"Enter number b : \"))\n",
        "print(\"Sum of a & b is \",sumof(a,b))"
      ],
      "metadata": {
        "colab": {
          "base_uri": "https://localhost:8080/"
        },
        "id": "pUfDBOJRiSG-",
        "outputId": "65d157fc-9019-4cc1-d24f-57af135ef01b"
      },
      "execution_count": null,
      "outputs": [
        {
          "output_type": "stream",
          "name": "stdout",
          "text": [
            "Enter number a : 2\n",
            "Enter number b : 3\n",
            "Sum of a & b is  5\n"
          ]
        }
      ]
    },
    {
      "cell_type": "markdown",
      "source": [
        "### **Add int with str**"
      ],
      "metadata": {
        "id": "-io5OG9YjCYN"
      }
    },
    {
      "cell_type": "code",
      "source": [
        "x = 'hi'\n",
        "y = 20\n",
        "print(x+y)"
      ],
      "metadata": {
        "colab": {
          "base_uri": "https://localhost:8080/",
          "height": 200
        },
        "id": "Ox8qWawYimTW",
        "outputId": "b0571e4e-9685-422e-dd12-cf194005b004"
      },
      "execution_count": null,
      "outputs": [
        {
          "output_type": "error",
          "ename": "TypeError",
          "evalue": "ignored",
          "traceback": [
            "\u001b[0;31m---------------------------------------------------------------------------\u001b[0m",
            "\u001b[0;31mTypeError\u001b[0m                                 Traceback (most recent call last)",
            "\u001b[0;32m<ipython-input-6-922c684d42e9>\u001b[0m in \u001b[0;36m<module>\u001b[0;34m()\u001b[0m\n\u001b[1;32m      1\u001b[0m \u001b[0mx\u001b[0m \u001b[0;34m=\u001b[0m \u001b[0;34m'hi'\u001b[0m\u001b[0;34m\u001b[0m\u001b[0;34m\u001b[0m\u001b[0m\n\u001b[1;32m      2\u001b[0m \u001b[0my\u001b[0m \u001b[0;34m=\u001b[0m \u001b[0;36m20\u001b[0m\u001b[0;34m\u001b[0m\u001b[0;34m\u001b[0m\u001b[0m\n\u001b[0;32m----> 3\u001b[0;31m \u001b[0mprint\u001b[0m\u001b[0;34m(\u001b[0m\u001b[0mx\u001b[0m\u001b[0;34m+\u001b[0m\u001b[0my\u001b[0m\u001b[0;34m)\u001b[0m\u001b[0;34m\u001b[0m\u001b[0;34m\u001b[0m\u001b[0m\n\u001b[0m",
            "\u001b[0;31mTypeError\u001b[0m: can only concatenate str (not \"int\") to str"
          ]
        }
      ]
    },
    {
      "cell_type": "markdown",
      "source": [
        "### **Print char using membership operator**"
      ],
      "metadata": {
        "id": "4rIfaVXulORI"
      }
    },
    {
      "cell_type": "code",
      "source": [
        "varr = 'Data ScienceS'\n",
        "\n",
        "x = [a for a in varr if a in 'S']\n",
        "print(x)\n"
      ],
      "metadata": {
        "colab": {
          "base_uri": "https://localhost:8080/"
        },
        "id": "h0cXIhb9jQ7K",
        "outputId": "de4a1097-c21b-4598-e957-f7ad805bb5ce"
      },
      "execution_count": null,
      "outputs": [
        {
          "output_type": "stream",
          "name": "stdout",
          "text": [
            "['S', 'S']\n"
          ]
        }
      ]
    },
    {
      "cell_type": "markdown",
      "source": [
        "### **Function & Arguments**"
      ],
      "metadata": {
        "id": "BELjNs1elXVs"
      }
    },
    {
      "cell_type": "code",
      "source": [
        "def numlist(a)  :\n",
        "  if a[0] == a[-1] :\n",
        "    return True \n",
        "  else :\n",
        "    return False\n",
        "a = [1,2,3,4,5,6,1]\n",
        "b = [1,2,3,4,5,6,7]\n",
        "print (numlist(a))\n",
        "print (numlist(b))"
      ],
      "metadata": {
        "id": "Bs5XlXNFkGZz",
        "colab": {
          "base_uri": "https://localhost:8080/"
        },
        "outputId": "f2fb8929-ce4a-4809-89af-78e1c5f37395"
      },
      "execution_count": null,
      "outputs": [
        {
          "output_type": "stream",
          "name": "stdout",
          "text": [
            "True\n",
            "False\n"
          ]
        }
      ]
    },
    {
      "cell_type": "markdown",
      "source": [
        "### **List (divisible by 5)**"
      ],
      "metadata": {
        "id": "lddo_9MQoiJY"
      }
    },
    {
      "cell_type": "code",
      "source": [
        "l1 = [10, 20, 33, 46, 55]\n",
        "\n",
        "divv = [a for a in l1 if a%5==0]\n",
        "\n",
        "fil = list(filter(lambda x : x%5==0,l1))\n",
        "\n",
        "print(divv)\n",
        "print(fil)"
      ],
      "metadata": {
        "colab": {
          "base_uri": "https://localhost:8080/"
        },
        "id": "EOGHK_K5lvsR",
        "outputId": "aeb0ff18-69b3-4d8c-de34-9c99196074f9"
      },
      "execution_count": null,
      "outputs": [
        {
          "output_type": "stream",
          "name": "stdout",
          "text": [
            "[10, 20, 55]\n",
            "[10, 20, 55]\n"
          ]
        }
      ]
    },
    {
      "cell_type": "markdown",
      "source": [
        "### **Cal add,sub using fun**"
      ],
      "metadata": {
        "id": "PkQlMk5w_XSB"
      }
    },
    {
      "cell_type": "code",
      "source": [
        "def calculation(x,y) :\n",
        "  return (x+y),(x-y)\n",
        "\n",
        "x = int (input(\"Enter number one : \"))\n",
        "y = int(input(\"Enter number two : \"))\n",
        "\n",
        "print(\"Addition & Subtraction of given numbers are : \",calculation(x,y))\n"
      ],
      "metadata": {
        "colab": {
          "base_uri": "https://localhost:8080/"
        },
        "id": "RDhgsy1F0zlh",
        "outputId": "8bba1f23-4da7-40e6-f495-b7ae4f410974"
      },
      "execution_count": null,
      "outputs": [
        {
          "output_type": "stream",
          "name": "stdout",
          "text": [
            "Enter number one : 5\n",
            "Enter number two : 6\n",
            "Addition & Subtraction of given numbers are :  (11, -1)\n"
          ]
        }
      ]
    },
    {
      "cell_type": "markdown",
      "source": [
        "### **non default arguments**"
      ],
      "metadata": {
        "id": "J_7VPgr1BviG"
      }
    },
    {
      "cell_type": "code",
      "source": [
        "def calculation(x=5,y) :\n",
        "  return (x+y),(x-y)\n",
        "\n",
        "x = int (input(\"Enter number one : \"))\n",
        "y = int(input(\"Enter number two : \"))\n",
        "\n",
        "print(\"Addition & Subtraction of given numbers are : \",calculation(x,y))\n"
      ],
      "metadata": {
        "colab": {
          "base_uri": "https://localhost:8080/",
          "height": 130
        },
        "id": "lwan7lbZAUVa",
        "outputId": "c8295ceb-1d98-422a-bf9a-b5b6638258b4"
      },
      "execution_count": null,
      "outputs": [
        {
          "output_type": "error",
          "ename": "SyntaxError",
          "evalue": "ignored",
          "traceback": [
            "\u001b[0;36m  File \u001b[0;32m\"<ipython-input-9-d6ea35b968e0>\"\u001b[0;36m, line \u001b[0;32m1\u001b[0m\n\u001b[0;31m    def calculation(x=5,y) :\u001b[0m\n\u001b[0m                   ^\u001b[0m\n\u001b[0;31mSyntaxError\u001b[0m\u001b[0;31m:\u001b[0m non-default argument follows default argument\n"
          ]
        }
      ]
    },
    {
      "cell_type": "markdown",
      "source": [
        "### **Recursion**\n",
        "\n",
        "*   Function call itself\n",
        "\n",
        "\n",
        "\n"
      ],
      "metadata": {
        "id": "Wad60koSr6Uu"
      }
    },
    {
      "cell_type": "code",
      "source": [
        "def factorial(num) :\n",
        "  if num==1 :\n",
        "    return num\n",
        "  else :\n",
        "    return num+factorial(num-1)\n",
        "num = int (input('Enter a number '))\n",
        "print('Factorial of ',num,'is',factorial(num))"
      ],
      "metadata": {
        "id": "X5lOp5-PBuhO",
        "colab": {
          "base_uri": "https://localhost:8080/"
        },
        "outputId": "6827daf5-7734-4af0-deef-452ec3466393"
      },
      "execution_count": 2,
      "outputs": [
        {
          "output_type": "stream",
          "name": "stdout",
          "text": [
            "Enter a number 4\n",
            "Factorial of  4 is 10\n"
          ]
        }
      ]
    },
    {
      "cell_type": "markdown",
      "source": [
        "### **Filter & Lambda**"
      ],
      "metadata": {
        "id": "rwZpfq4Ytozc"
      }
    },
    {
      "cell_type": "code",
      "source": [
        "a= \t[12, 11, 53, 22, 21, 77, 87, 88, 98]\n",
        "\n",
        "fil = list(filter(lambda x : x%2 != 0,a))\n",
        "newlist = list(map(lambda x : x*x,fil))\n",
        "print(newlist)\n",
        "print(fil)"
      ],
      "metadata": {
        "colab": {
          "base_uri": "https://localhost:8080/"
        },
        "id": "oyJqeN9DthCE",
        "outputId": "c1456aee-a4fa-449f-d875-3957d3ef8904"
      },
      "execution_count": 7,
      "outputs": [
        {
          "output_type": "stream",
          "name": "stdout",
          "text": [
            "[121, 2809, 441, 5929, 7569]\n",
            "[11, 53, 21, 77, 87]\n"
          ]
        }
      ]
    },
    {
      "cell_type": "markdown",
      "source": [
        "### **Example of map**"
      ],
      "metadata": {
        "id": "xsTdyI00w9Gp"
      }
    },
    {
      "cell_type": "code",
      "source": [
        "a= \t[12, 11, 53, 22, 21, 77, 87, 88, 98]\n",
        "\n",
        "notlam = [i*i for i in a]\n",
        "print(notlam)\n",
        "\n",
        "def lamm (a) :\n",
        "  for x in a :\n",
        "    print(x*x)\n",
        "print(\"function : \" ,lamm(a))\n"
      ],
      "metadata": {
        "colab": {
          "base_uri": "https://localhost:8080/"
        },
        "id": "FszVTJLFvkEW",
        "outputId": "69fb6593-28ec-47bc-ed0d-90e32f36f347"
      },
      "execution_count": 13,
      "outputs": [
        {
          "output_type": "stream",
          "name": "stdout",
          "text": [
            "[144, 121, 2809, 484, 441, 5929, 7569, 7744, 9604]\n",
            "144\n",
            "121\n",
            "2809\n",
            "484\n",
            "441\n",
            "5929\n",
            "7569\n",
            "7744\n",
            "9604\n",
            "function :  None\n"
          ]
        }
      ]
    },
    {
      "cell_type": "code",
      "source": [
        ""
      ],
      "metadata": {
        "id": "eYCbV96Yx9h-"
      },
      "execution_count": null,
      "outputs": []
    }
  ]
}